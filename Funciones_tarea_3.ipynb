{
 "cells": [
  {
   "cell_type": "markdown",
   "id": "a1b9f481",
   "metadata": {},
   "source": [
    "Ciencia de datos en Python\n",
    "Nombre: Pedro Pablo Loukota Castellanos\n",
    "Carne:16001009\n",
    "Tarea numero 3\n",
    "\n"
   ]
  },
  {
   "cell_type": "code",
   "execution_count": 4,
   "id": "5e99c258",
   "metadata": {},
   "outputs": [
    {
     "name": "stdout",
     "output_type": "stream",
     "text": [
      "782.0\n"
     ]
    }
   ],
   "source": [
    "import math\n",
    "\n",
    "def func_posicionales(numero_1, numero_2):\n",
    "    producto = math.fabs(numero_1) * numero_2\n",
    "    return(producto)\n",
    "\n",
    "\n",
    "print(func_posicionales(34,23))\n",
    "\n",
    "#las funciones se definen y recien parametros sean estos nombrados o posicionales\n",
    "# Aqui se llama la librería Math en la cual se manda a llamar fabs\n",
    "\n"
   ]
  },
  {
   "cell_type": "code",
   "execution_count": 9,
   "id": "feda9713",
   "metadata": {},
   "outputs": [
    {
     "name": "stdout",
     "output_type": "stream",
     "text": [
      "-11\n"
     ]
    }
   ],
   "source": [
    "import math\n",
    "\n",
    "def func_nombre_menos(numero_1=0, numero_2=0):\n",
    "    resta = numero_1 - numero_2\n",
    "    return(resta)\n",
    "\n",
    "\n",
    "print(func_nombre_menos(numero_2 = 34,numero_1 = 23))\n",
    "\n",
    "#Aqui se implementa el palametro por numbre el cual no importa el nombre se manda el nombre de la vraiable\n"
   ]
  },
  {
   "cell_type": "code",
   "execution_count": 33,
   "id": "ab99b23c",
   "metadata": {},
   "outputs": [
    {
     "name": "stdout",
     "output_type": "stream",
     "text": [
      "[list([1, 2, 3, 4, 5, 6, 8]) list([22, 55, 3, 4, 5, 77, 56])]\n",
      "[1 2 3 4 5]\n"
     ]
    },
    {
     "name": "stderr",
     "output_type": "stream",
     "text": [
      "C:\\Users\\rogue\\AppData\\Local\\Temp/ipykernel_21352/333733020.py:4: VisibleDeprecationWarning: Creating an ndarray from ragged nested sequences (which is a list-or-tuple of lists-or-tuples-or ndarrays with different lengths or shapes) is deprecated. If you meant to do this, you must specify 'dtype=object' when creating the ndarray.\n",
      "  matrix=nup.array([[1,2,3,4,5,6,8],[12,23,12,2,3],[22,55,3,4,5,77,56]])\n"
     ]
    }
   ],
   "source": [
    "import numpy as nup\n",
    "\n",
    "def matrices():\n",
    "    matrix=nup.array([[1,2,3,4,5,6,8],[12,23,12,2,3],[22,55,3,4,5,77,56]])\n",
    "    matrix_b =nup.array(matrix[::2])\n",
    "    matrix_c =nup.array(matrix[1:6])\n",
    "    matrix_d =nup.arange(1, 6, 1, dtype=int)\n",
    "    return(matrix,matrix_b,matrix_c,matrix_d)\n",
    "\n",
    "\n",
    "original,mb,mc,md =matrices()\n",
    "print(mb)\n",
    "print(md)\n",
    "\n",
    "#Aqui se reciven varios parametros y son matrices las que se reciven\n"
   ]
  },
  {
   "cell_type": "code",
   "execution_count": 49,
   "id": "8359146e",
   "metadata": {},
   "outputs": [
    {
     "name": "stdout",
     "output_type": "stream",
     "text": [
      "8\n",
      "[1156, 1089, 144, 484, 3136]\n",
      "asbi beata\n"
     ]
    }
   ],
   "source": [
    "\n",
    "\n",
    "nums = [34,33,12,22,56]\n",
    "cuadrado = map(lambda num: num ** 2,nums)\n",
    "publicacion = lambda palabra, palabrae: palabra+\" \"+palabrae \n",
    "\n",
    "\n",
    "x=2\n",
    "y=3\n",
    "\n",
    "raise_to_power = lambda x, y: x ** y\n",
    "\n",
    "\n",
    "print(raise_to_power(2, 3))\n",
    "print(list(cuadrado))\n",
    "print(publicacion(\"asbi\",\"beata\"))\n",
    "\n",
    "\n",
    "\n",
    "\n",
    "\n",
    "\n",
    "\n",
    "\n"
   ]
  },
  {
   "cell_type": "code",
   "execution_count": null,
   "id": "f2e24a25",
   "metadata": {},
   "outputs": [],
   "source": []
  }
 ],
 "metadata": {
  "kernelspec": {
   "display_name": "Python 3 (ipykernel)",
   "language": "python",
   "name": "python3"
  },
  "language_info": {
   "codemirror_mode": {
    "name": "ipython",
    "version": 3
   },
   "file_extension": ".py",
   "mimetype": "text/x-python",
   "name": "python",
   "nbconvert_exporter": "python",
   "pygments_lexer": "ipython3",
   "version": "3.9.7"
  }
 },
 "nbformat": 4,
 "nbformat_minor": 5
}
